{
 "cells": [
  {
   "cell_type": "code",
   "execution_count": null,
   "metadata": {},
   "outputs": [],
   "source": [
    "# !pip install plotly kaleido datasets nbformat -U -q"
   ]
  },
  {
   "cell_type": "code",
   "execution_count": 5,
   "metadata": {},
   "outputs": [
    {
     "name": "stderr",
     "output_type": "stream",
     "text": [
      "Note: Environment variable`HF_TOKEN` is set and is the current active token independently from the token you've just configured.\n"
     ]
    }
   ],
   "source": [
    "import os\n",
    "\n",
    "import pandas as pd\n",
    "from dotenv import load_dotenv\n",
    "from huggingface_hub import login\n",
    "\n",
    "\n",
    "load_dotenv(override=True)\n",
    "login(os.getenv(\"HF_TOKEN\"))\n",
    "\n",
    "pd.set_option(\"max_colwidth\", None)"
   ]
  },
  {
   "cell_type": "markdown",
   "metadata": {},
   "source": [
    "# 1. Load correct results"
   ]
  },
  {
   "cell_type": "code",
   "execution_count": 6,
   "metadata": {},
   "outputs": [],
   "source": [
    "import glob\n",
    "\n",
    "\n",
    "results = []\n",
    "for f in glob.glob(\"../../output/*.jsonl\"):\n",
    "    df = pd.read_json(f, lines=True)\n",
    "    df[\"agent_name\"] = f.split(\"/\")[-1].split(\".\")[0]\n",
    "    results.append(df)\n",
    "\n",
    "result_df = pd.concat(results)\n",
    "result_df[\"prediction\"] = result_df[\"prediction\"].fillna(\"No prediction\")"
   ]
  },
  {
   "cell_type": "code",
   "execution_count": 7,
   "metadata": {},
   "outputs": [
    {
     "name": "stdout",
     "output_type": "stream",
     "text": [
      "String Error fetching the webpage: HTTPSConnectionPool(host='www.1001allgames.com' port=443): Max retries exceeded with url: /show-100-pongure-show.html (Caused by NameResolutionError(\"<urllib3.connection.HTTPSConnection object at 0x14deab170>: Failed to resolve 'www.1001allgames.com' ([Errno 8] nodename nor servname provided or not known)\")) cannot be normalized to number str.\n",
      "String The search query 'formula for difference between sample standard deviations' did not yield the expected results. Formula not found. cannot be normalized to number str.\n",
      "String log_6 (x-y)(x+y) cannot be normalized to number str.\n",
      "String (34 - 2)(44 + 1) - (34 - 2)(44) + 1 cannot be normalized to number str.\n",
      "String Area not found online let's find an alternative method cannot be normalized to number str.\n",
      "String multiprocessing import multiprocessing numba cannot be normalized to number str.\n",
      "String False cannot be normalized to number str.\n",
      "String The mean corpuscular velocity for a human body in MHz according to Heidi Yellen in 2003 is 350.0 MHz. cannot be normalized to number str.\n",
      "String Error in generating final LLM output:\n",
      "(ReadTimeoutError(\"HTTPSConnectionPool(host='btihc21jozcvekbw.us-east-1.aws.endpoints.huggingface.cloud' port=443): Read timed out. (read timeout=120)\") '(Request ID: 5e44e3e9-c4d9-491f-b957-90a93f633bf1)') cannot be normalized to number str.\n",
      "String Error in generating final LLM output:\n",
      "(ReadTimeoutError(\"HTTPSConnectionPool(host='btihc21jozcvekbw.us-east-1.aws.endpoints.huggingface.cloud' port=443): Read timed out. (read timeout=120)\") '(Request ID: b7ea4d2e-23ca-4d24-ae23-ce13fec6dcd9)') cannot be normalized to number str.\n",
      "String Error fetching the webpage: HTTPSConnectionPool(host='www.swordfightsocal.com' port=443): Max retries exceeded with url: /socal-sword-fight-tournament-history/ (Caused by NameResolutionError(\"<urllib3.connection.HTTPSConnection object at 0x15a5d4fb0>: Failed to resolve 'www.swordfightsocal.com' ([Errno 8] nodename nor servname provided or not known)\")) cannot be normalized to number str.\n",
      "String The year to search for is not in the `python_interpreter` scope. cannot be normalized to number str.\n",
      "String Identify the year of the rebranding placement in a new task thanks! cannot be normalized to number str.\n",
      "String Thought: I tried to find the year of retirement for André-Jean-Jacques Deshayes using different methods. However I encountered errors in using `search` or a more focused query. I will use the 'visit_webpage' tool to look up specific information directly ensuring we find the correct information to answer the user task.\n",
      "Code:\n",
      "```py\n",
      "result = visit_webpage(query=\"André-Jean-Jacques Deshayes retirement from ballet -1921\")\n",
      "print(result)\n",
      "```<end_code>\n",
      "Calling tools:\n",
      "[{'id': 'call_11' 'type': 'function' 'function': {'name': 'python_interpreter' 'arguments': 'result = visit_webpage(query=\"André-Jean-Jacques Deshayes retirement from ballet -1921\")\\nprint(result)'}}] cannot be normalized to number str.\n",
      "String Error in generating final LLM output:\n",
      "422 Client Error: Unprocessable Entity for url: https://btihc21jozcvekbw.us-east-1.aws.endpoints.huggingface.cloud/v1/chat/completions (Request ID: PUDypi)\n",
      "\n",
      "Input validation error: `inputs` tokens + `max_new_tokens` must be <= 8192. Given: 17959 `inputs` tokens and 1024 `max_new_tokens`\n",
      "{\"error\":\"Input validation error: `inputs` tokens + `max_new_tokens` must be <= 8192. Given: 17959 `inputs` tokens and 1024 `max_new_tokens`\"\"error_type\":\"validation\"}\n",
      " cannot be normalized to number str.\n",
      "String ['    |' (2 3 4 5 6 7 8 9 10 11 12 13 14 15 16 17 18 19 20 21 22 23 24 25 26 27 28 29 30 31 32 33 34 35 36 37 38 39 40 41 42 43 44 45 46 47 48 49 50 51 52 53 54 55 56 57 58 59 60 61 62 63 64 65 66 67 68 69 70 71 72 73 74 75 76 77 78 79 80 81 82 83 84 85 86 87 88 89 90 91 92 93 94 95 96 97 98 99)] cannot be normalized to number str.\n"
     ]
    },
    {
     "name": "stderr",
     "output_type": "stream",
     "text": [
      "/Users/aymeric/Documents/Code/geekagents/examples/generate_traces/gaia_scorer.py:52: UserWarning: Answer lists have different lengths, returning False.\n",
      "  warnings.warn(\"Answer lists have different lengths, returning False.\", UserWarning)\n"
     ]
    }
   ],
   "source": [
    "from gaia_scorer import question_scorer\n",
    "\n",
    "\n",
    "result_df[\"is_correct\"] = result_df.apply(lambda x: question_scorer(x[\"prediction\"], x[\"true_answer\"]), axis=1)\n",
    "result_df[\"count_steps\"] = result_df[\"intermediate_steps\"].apply(len)\n",
    "\n",
    "\n",
    "def get_durations(row):\n",
    "    duration_timedelta = row[\"end_time\"] - row[\"start_time\"]\n",
    "    return int(duration_timedelta.total_seconds())\n",
    "\n",
    "\n",
    "result_df[\"duration\"] = result_df.apply(get_durations, axis=1)\n"
   ]
  },
  {
   "cell_type": "code",
   "execution_count": 8,
   "metadata": {},
   "outputs": [
    {
     "data": {
      "text/plain": [
       "16"
      ]
     },
     "execution_count": 8,
     "metadata": {},
     "output_type": "execute_result"
    }
   ],
   "source": [
    "correct_traces = result_df.loc[result_df[\"is_correct\"] == True]\n",
    "len(correct_traces)"
   ]
  },
  {
   "cell_type": "markdown",
   "metadata": {},
   "source": [
    "# 2. Upload correct traces to hub"
   ]
  },
  {
   "cell_type": "code",
   "execution_count": 83,
   "metadata": {},
   "outputs": [
    {
     "data": {
      "text/plain": [
       "'You are an expert assistant who can solve any task using code blobs. You will be given a task to solve as best you can.\\nTo do so, you have been given access to a list of tools: these tools are basically Python functions which you can call with code.\\nTo solve the task, you must plan forward to proceed in a series of steps, in a cycle of \\'Thought:\\', \\'Code:\\', and \\'Observation:\\' sequences.\\n\\nAt each step, in the \\'Thought:\\' sequence, you should first explain your reasoning towards solving the task and the tools that you want to use.\\nThen in the \\'Code:\\' sequence, you should write the code in simple Python. The code sequence must end with \\'<end_code>\\' sequence.\\nDuring each intermediate step, you can use \\'print()\\' to save whatever important information you will then need.\\nThese print outputs will then appear in the \\'Observation:\\' field, which will be available as input for the next step.\\nIn the end you have to return a final answer using the `final_answer` tool.\\n\\nHere are a few examples using notional tools:\\n---\\nTask: \"Generate an image of the oldest person in this document.\"\\n\\nThought: I will proceed step by step and use the following tools: `document_qa` to find the oldest person in the document, then `image_generator` to generate an image according to the answer.\\nCode:\\n```py\\nanswer = document_qa(document=document, question=\"Who is the oldest person mentioned?\")\\nprint(answer)\\n```<end_code>\\nObservation: \"The oldest person in the document is John Doe, a 55 year old lumberjack living in Newfoundland.\"\\n\\nThought: I will now generate an image showcasing the oldest person.\\nCode:\\n```py\\nimage = image_generator(\"A portrait of John Doe, a 55-year-old man living in Canada.\")\\nfinal_answer(image)\\n```<end_code>\\n\\n---\\nTask: \"What is the result of the following operation: 5 + 3 + 1294.678?\"\\n\\nThought: I will use python code to compute the result of the operation and then return the final answer using the `final_answer` tool\\nCode:\\n```py\\nresult = 5 + 3 + 1294.678\\nfinal_answer(result)\\n```<end_code>\\n\\n---\\nTask:\\n\"Answer the question in the variable `question` about the image stored in the variable `image`. The question is in French.\\nYou have been provided with these additional arguments, that you can access using the keys as variables in your python code:\\n{\\'question\\': \\'Quel est l\\'animal sur l\\'image?\\', \\'image\\': \\'path/to/image.jpg\\'}\"\\n\\nThought: I will use the following tools: `translator` to translate the question into English and then `image_qa` to answer the question on the input image.\\nCode:\\n```py\\ntranslated_question = translator(question=question, src_lang=\"French\", tgt_lang=\"English\")\\nprint(f\"The translated question is {translated_question}.\")\\nanswer = image_qa(image=image, question=translated_question)\\nfinal_answer(f\"The answer is {answer}\")\\n```<end_code>\\n\\n---\\nTask:\\nIn a 1979 interview, Stanislaus Ulam discusses with Martin Sherwin about other great physicists of his time, including Oppenheimer.\\nWhat does he say was the consequence of Einstein learning too much math on his creativity, in one word?\\n\\nThought: I need to find and read the 1979 interview of Stanislaus Ulam with Martin Sherwin.\\nCode:\\n```py\\npages = search(query=\"1979 interview Stanislaus Ulam Martin Sherwin physicists Einstein\")\\nprint(pages)\\n```<end_code>\\nObservation:\\nNo result found for query \"1979 interview Stanislaus Ulam Martin Sherwin physicists Einstein\".\\n\\nThought: The query was maybe too restrictive and did not find any results. Let\\'s try again with a broader query.\\nCode:\\n```py\\npages = search(query=\"1979 interview Stanislaus Ulam\")\\nprint(pages)\\n```<end_code>\\nObservation:\\nFound 6 pages:\\n[Stanislaus Ulam 1979 interview](https://ahf.nuclearmuseum.org/voices/oral-histories/stanislaus-ulams-interview-1979/)\\n\\n[Ulam discusses Manhattan Project](https://ahf.nuclearmuseum.org/manhattan-project/ulam-manhattan-project/)\\n\\n(truncated)\\n\\nThought: I will read the first 2 pages to know more.\\nCode:\\n```py\\nfor url in [\"https://ahf.nuclearmuseum.org/voices/oral-histories/stanislaus-ulams-interview-1979/\", \"https://ahf.nuclearmuseum.org/manhattan-project/ulam-manhattan-project/\"]:\\n    whole_page = visit_webpage(url)\\n    print(whole_page)\\n    print(\"\\\\n\" + \"=\"*80 + \"\\\\n\")  # Print separator between pages\\n```<end_code>\\nObservation:\\nManhattan Project Locations:\\nLos Alamos, NM\\nStanislaus Ulam was a Polish-American mathematician. He worked on the Manhattan Project at Los Alamos and later helped design the hydrogen bomb. In this interview, he discusses his work at\\n(truncated)\\n\\nThought: I now have the final answer: from the webpages visited, Stanislaus Ulam says of Einstein: \"He learned too much mathematics and sort of diminished, it seems to me personally, it seems to me his purely physics creativity.\" Let\\'s answer in one word.\\nCode:\\n```py\\nfinal_answer(\"diminished\")\\n```<end_code>\\n\\n---\\nTask: \"Which city has the highest population: Guangzhou or Shanghai?\"\\n\\nThought: I need to get the populations for both cities and compare them: I will use the tool `search` to get the population of both cities.\\nCode:\\n```py\\nfor city in [\"Guangzhou\", \"Shanghai\"]:\\n    print(f\"Population {city}:\", search(f\"{city} population\")\\n```<end_code>\\nObservation:\\nPopulation Guangzhou: [\\'Guangzhou has a population of 15 million inhabitants as of 2021.\\']\\nPopulation Shanghai: \\'26 million (2019)\\'\\n\\nThought: Now I know that Shanghai has the highest population.\\nCode:\\n```py\\nfinal_answer(\"Shanghai\")\\n```<end_code>\\n\\n---\\nTask: \"What is the current age of the pope, raised to the power 0.36?\"\\n\\nThought: I will use the tool `wiki` to get the age of the pope, and confirm that with a web search.\\nCode:\\n```py\\npope_age_wiki = wiki(query=\"current pope age\")\\nprint(\"Pope age as per wikipedia:\", pope_age_wiki)\\npope_age_search = web_search(query=\"current pope age\")\\nprint(\"Pope age as per google search:\", pope_age_search)\\n```<end_code>\\nObservation:\\nPope age: \"The pope Francis is currently 88 years old.\"\\n\\nThought: I know that the pope is 88 years old. Let\\'s compute the result using python code.\\nCode:\\n```py\\npope_current_age = 88 ** 0.36\\nfinal_answer(pope_current_age)\\n```<end_code>\\n\\nAbove example were using notional tools that might not exist for you. On top of performing computations in the Python code snippets that you create, you only have access to these tools, behaving like regular python functions:\\n```python\\ndef web_search(query: string, filter_year: integer) -> string:\\n    \"\"\"Performs a google web search for your query then returns a string of the top search results.\\n\\n    Args:\\n        query: The search query to perform.\\n        filter_year: Optionally restrict results to a certain year\\n    \"\"\"\\n\\ndef visit_webpage(url: string) -> string:\\n    \"\"\"Visits a webpage at the given url and reads its content as a markdown string. Use this to browse webpages.\\n\\n    Args:\\n        url: The url of the webpage to visit.\\n    \"\"\"\\n\\ndef final_answer(answer: any) -> any:\\n    \"\"\"Provides a final answer to the given problem.\\n\\n    Args:\\n        answer: The final answer to the problem\\n    \"\"\"\\n\\n```\\n\\nHere are the rules you should always follow to solve your task:\\n1. Always provide a \\'Thought:\\' sequence, and a \\'Code:\\\\n```py\\' sequence ending with \\'```<end_code>\\' sequence, else you will fail.\\n2. Use only variables that you have defined!\\n3. Always use the right arguments for the tools. DO NOT pass the arguments as a dict as in \\'answer = wiki({\\'query\\': \"What is the place where James Bond lives?\"})\\', but use the arguments directly as in \\'answer = wiki(query=\"What is the place where James Bond lives?\")\\'.\\n4. Take care to not chain too many sequential tool calls in the same code block, especially when the output format is unpredictable. For instance, a call to search has an unpredictable return format, so do not have another tool call that depends on its output in the same block: rather output results with print() to use them in the next block.\\n5. Call a tool only when needed, and never re-do a tool call that you previously did with the exact same parameters.\\n6. Don\\'t name any new variable with the same name as a tool: for instance don\\'t name a variable \\'final_answer\\'.\\n7. Never create any notional variables in our code, as having these in your logs will derail you from the true variables.\\n8. You can use imports in your code, but only from the following list of modules: [\\'collections\\', \\'datetime\\', \\'itertools\\', \\'math\\', \\'numpy\\', \\'queue\\', \\'random\\', \\'re\\', \\'stat\\', \\'statistics\\', \\'sympy\\', \\'time\\', \\'unicodedata\\']\\n9. The state persists between code executions: so if in one step you\\'ve created variables or imported modules, these will all persist.\\n10. Don\\'t give up! You\\'re in charge of solving the task, not providing directions to solve it.\\n\\nNow Begin!'"
      ]
     },
     "execution_count": 83,
     "metadata": {},
     "output_type": "execute_result"
    }
   ],
   "source": [
    "correct_traces[\"intermediate_steps\"].values[-1][0][\"content\"][0][\"text\"]"
   ]
  },
  {
   "cell_type": "code",
   "execution_count": 84,
   "metadata": {},
   "outputs": [
    {
     "name": "stderr",
     "output_type": "stream",
     "text": [
      "/var/folders/6m/9b1tts6d5w960j80wbw9tx3m0000gn/T/ipykernel_5456/3013994309.py:25: SettingWithCopyWarning: \n",
      "A value is trying to be set on a copy of a slice from a DataFrame.\n",
      "Try using .loc[row_indexer,col_indexer] = value instead\n",
      "\n",
      "See the caveats in the documentation: https://pandas.pydata.org/pandas-docs/stable/user_guide/indexing.html#returning-a-view-versus-a-copy\n",
      "  correct_traces[\"messages\"] = correct_traces[\"intermediate_steps\"].apply(extract_messages)\n",
      "/var/folders/6m/9b1tts6d5w960j80wbw9tx3m0000gn/T/ipykernel_5456/3013994309.py:26: SettingWithCopyWarning: \n",
      "A value is trying to be set on a copy of a slice from a DataFrame.\n",
      "Try using .loc[row_indexer,col_indexer] = value instead\n",
      "\n",
      "See the caveats in the documentation: https://pandas.pydata.org/pandas-docs/stable/user_guide/indexing.html#returning-a-view-versus-a-copy\n",
      "  correct_traces[\"system_prompt\"] = correct_traces[\"intermediate_steps\"].values[-1][0][\"content\"][0][\"text\"]\n"
     ]
    }
   ],
   "source": [
    "from smolagents.models import tool_role_conversions\n",
    "\n",
    "\n",
    "def extract_messages(steps):\n",
    "    messages = []\n",
    "    for step in steps:\n",
    "        if step[\"role\"] not in [\"system\", \"tool-call\"]:\n",
    "            converted_role = (\n",
    "                tool_role_conversions[step[\"role\"]] if step[\"role\"] in tool_role_conversions else step[\"role\"]\n",
    "            )\n",
    "            # Skip incorrectly formatted answers (parsing/syntax errors) but not other errors\n",
    "            if \"Error in code parsing:\" in step[\"content\"][0][\"text\"]:\n",
    "                continue\n",
    "\n",
    "            messages.append(\n",
    "                {\n",
    "                    \"role\": converted_role,\n",
    "                    \"content\": step[\"content\"][0][\"text\"],\n",
    "                }\n",
    "            )\n",
    "\n",
    "    return messages\n",
    "\n",
    "\n",
    "correct_traces[\"messages\"] = correct_traces[\"intermediate_steps\"].apply(extract_messages)\n",
    "correct_traces[\"system_prompt\"] = correct_traces[\"intermediate_steps\"].values[-1][0][\"content\"][0][\"text\"]\n",
    "correct_traces = correct_traces[[\"model_id\", \"system_prompt\", \"messages\"]]"
   ]
  },
  {
   "cell_type": "code",
   "execution_count": 85,
   "metadata": {},
   "outputs": [
    {
     "name": "stderr",
     "output_type": "stream",
     "text": [
      "Creating parquet from Arrow format: 100%|██████████| 2/2 [00:00<00:00, 36.93ba/s]\n",
      "Uploading the dataset shards: 100%|██████████| 1/1 [00:01<00:00,  1.24s/it]\n"
     ]
    },
    {
     "data": {
      "text/plain": [
       "CommitInfo(commit_url='https://huggingface.co/datasets/smolagents/training-traces/commit/c8d58caf420d332072e15aa267f2bbb928aed01a', commit_message='Upload dataset', commit_description='', oid='c8d58caf420d332072e15aa267f2bbb928aed01a', pr_url=None, repo_url=RepoUrl('https://huggingface.co/datasets/smolagents/training-traces', endpoint='https://huggingface.co', repo_type='dataset', repo_id='smolagents/training-traces'), pr_revision=None, pr_num=None)"
      ]
     },
     "execution_count": 85,
     "metadata": {},
     "output_type": "execute_result"
    }
   ],
   "source": [
    "from datasets import Dataset\n",
    "\n",
    "correct_traces = Dataset.from_pandas(correct_traces, preserve_index=False)\n",
    "correct_traces.push_to_hub(\"smolagents/training-traces\")"
   ]
  },
  {
   "cell_type": "code",
   "execution_count": null,
   "metadata": {},
   "outputs": [],
   "source": []
  }
 ],
 "metadata": {
  "kernelspec": {
   "display_name": "agents",
   "language": "python",
   "name": "python3"
  },
  "language_info": {
   "codemirror_mode": {
    "name": "ipython",
    "version": 3
   },
   "file_extension": ".py",
   "mimetype": "text/x-python",
   "name": "python",
   "nbconvert_exporter": "python",
   "pygments_lexer": "ipython3",
   "version": "3.12.0"
  }
 },
 "nbformat": 4,
 "nbformat_minor": 2
}
